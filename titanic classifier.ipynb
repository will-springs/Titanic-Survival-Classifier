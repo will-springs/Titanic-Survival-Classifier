{
 "cells": [
  {
   "cell_type": "markdown",
   "id": "147a97fc",
   "metadata": {},
   "source": [
    "# Titanic Passengers Survival Predictor"
   ]
  },
  {
   "cell_type": "markdown",
   "id": "d7472a30",
   "metadata": {},
   "source": [
    "In this project I created a Logistic Regression model that predicts which passengers survived the sinking of the Titanic, based on features like age and class.\n",
    "\n",
    "The data I used for training the model was provided by Kaggle. "
   ]
  },
  {
   "cell_type": "code",
   "execution_count": 1,
   "id": "0a856bf0",
   "metadata": {},
   "outputs": [],
   "source": [
    "import seaborn as sns\n",
    "import pandas as pd\n",
    "import numpy as np\n",
    "import matplotlib.pyplot as plt\n",
    "from sklearn.linear_model import LogisticRegression\n",
    "from sklearn.model_selection import train_test_split\n",
    "from sklearn.preprocessing import StandardScaler"
   ]
  },
  {
   "cell_type": "code",
   "execution_count": 2,
   "id": "aa192da8",
   "metadata": {},
   "outputs": [
    {
     "name": "stdout",
     "output_type": "stream",
     "text": [
      "29.69911764705882\n",
      "   PassengerId  Survived  Pclass  \\\n",
      "0            1         0       3   \n",
      "1            2         1       1   \n",
      "2            3         1       3   \n",
      "3            4         1       1   \n",
      "4            5         0       3   \n",
      "5            6         0       3   \n",
      "6            7         0       1   \n",
      "7            8         0       3   \n",
      "8            9         1       3   \n",
      "9           10         1       2   \n",
      "\n",
      "                                                Name  Sex   Age  SibSp  Parch  \\\n",
      "0                            Braund, Mr. Owen Harris    0  22.0      1      0   \n",
      "1  Cumings, Mrs. John Bradley (Florence Briggs Th...    1  38.0      1      0   \n",
      "2                             Heikkinen, Miss. Laina    1  26.0      0      0   \n",
      "3       Futrelle, Mrs. Jacques Heath (Lily May Peel)    1  35.0      1      0   \n",
      "4                           Allen, Mr. William Henry    0  35.0      0      0   \n",
      "5                                   Moran, Mr. James    0  30.0      0      0   \n",
      "6                            McCarthy, Mr. Timothy J    0  54.0      0      0   \n",
      "7                     Palsson, Master. Gosta Leonard    0   2.0      3      1   \n",
      "8  Johnson, Mrs. Oscar W (Elisabeth Vilhelmina Berg)    1  27.0      0      2   \n",
      "9                Nasser, Mrs. Nicholas (Adele Achem)    1  14.0      1      0   \n",
      "\n",
      "             Ticket     Fare Cabin Embarked  FirstClass  \n",
      "0         A/5 21171   7.2500   NaN        S           0  \n",
      "1          PC 17599  71.2833   C85        C           1  \n",
      "2  STON/O2. 3101282   7.9250   NaN        S           0  \n",
      "3            113803  53.1000  C123        S           1  \n",
      "4            373450   8.0500   NaN        S           0  \n",
      "5            330877   8.4583   NaN        Q           0  \n",
      "6             17463  51.8625   E46        S           1  \n",
      "7            349909  21.0750   NaN        S           0  \n",
      "8            347742  11.1333   NaN        S           0  \n",
      "9            237736  30.0708   NaN        C           0  \n",
      "   PassengerId  Survived  Pclass  \\\n",
      "0            1         0       3   \n",
      "1            2         1       1   \n",
      "2            3         1       3   \n",
      "3            4         1       1   \n",
      "4            5         0       3   \n",
      "5            6         0       3   \n",
      "6            7         0       1   \n",
      "7            8         0       3   \n",
      "8            9         1       3   \n",
      "9           10         1       2   \n",
      "\n",
      "                                                Name  Sex   Age  SibSp  Parch  \\\n",
      "0                            Braund, Mr. Owen Harris    0  22.0      1      0   \n",
      "1  Cumings, Mrs. John Bradley (Florence Briggs Th...    1  38.0      1      0   \n",
      "2                             Heikkinen, Miss. Laina    1  26.0      0      0   \n",
      "3       Futrelle, Mrs. Jacques Heath (Lily May Peel)    1  35.0      1      0   \n",
      "4                           Allen, Mr. William Henry    0  35.0      0      0   \n",
      "5                                   Moran, Mr. James    0  30.0      0      0   \n",
      "6                            McCarthy, Mr. Timothy J    0  54.0      0      0   \n",
      "7                     Palsson, Master. Gosta Leonard    0   2.0      3      1   \n",
      "8  Johnson, Mrs. Oscar W (Elisabeth Vilhelmina Berg)    1  27.0      0      2   \n",
      "9                Nasser, Mrs. Nicholas (Adele Achem)    1  14.0      1      0   \n",
      "\n",
      "             Ticket     Fare Cabin Embarked  FirstClass  SecondClass  \n",
      "0         A/5 21171   7.2500   NaN        S           0            0  \n",
      "1          PC 17599  71.2833   C85        C           1            0  \n",
      "2  STON/O2. 3101282   7.9250   NaN        S           0            0  \n",
      "3            113803  53.1000  C123        S           1            0  \n",
      "4            373450   8.0500   NaN        S           0            0  \n",
      "5            330877   8.4583   NaN        Q           0            0  \n",
      "6             17463  51.8625   E46        S           1            0  \n",
      "7            349909  21.0750   NaN        S           0            0  \n",
      "8            347742  11.1333   NaN        S           0            0  \n",
      "9            237736  30.0708   NaN        C           0            1  \n"
     ]
    }
   ],
   "source": [
    "# Load the passenger data\n",
    "passengers = pd.read_csv('passengers.csv')\n",
    "#print(passengers.head())\n",
    "\n",
    "# Update sex column to numerical\n",
    "passengers['Sex'] = passengers.Sex.map({'male':0, 'female':1})\n",
    "#print(passengers.head())\n",
    "# Fill the nan values in the age column\n",
    "#print(passengers['Age'].values)\n",
    "avg_Age = np.mean(passengers.Age)\n",
    "print(avg_Age)\n",
    "passengers['Age'].fillna(value=round(avg_Age,0), inplace=True)\n",
    "#print(passengers.head(10))\n",
    "\n",
    "# Create a first class column\n",
    "passengers['FirstClass'] = passengers.Pclass.apply(lambda x: 1 if x == 1 else 0)\n",
    "print(passengers.head(10))\n",
    "# Create a second class column\n",
    "passengers['SecondClass'] = passengers.Pclass.apply(lambda x: 1 if x == 2 else 0)\n",
    "print(passengers.head(10))"
   ]
  },
  {
   "cell_type": "code",
   "execution_count": 3,
   "id": "19f77233",
   "metadata": {},
   "outputs": [
    {
     "name": "stdout",
     "output_type": "stream",
     "text": [
      "0.78330658105939\n",
      "0.832089552238806\n"
     ]
    }
   ],
   "source": [
    "# Select the desired features\n",
    "features = passengers[['Sex', 'Age', 'FirstClass', 'SecondClass']]\n",
    "survival = passengers['Survived']\n",
    "\n",
    "# Perform train, test, split\n",
    "X_train, X_test, y_train, y_test = train_test_split(features, survival, test_size = 0.3)\n",
    "\n",
    "#Since sklearn‘s Logistic Regression implementation uses Regularization, we need to scale\n",
    "#our feature data. Create a StandardScaler object, .fit_transform() it on the training features,\n",
    "#and .transform() the test features.\n",
    "# Scale the feature data so it has mean = 0 and standard deviation = 1\n",
    "scaler = StandardScaler()\n",
    "train_features = scaler.fit_transform(X_train)\n",
    "test_features = scaler.transform(X_test)\n",
    "\n",
    "# Create and train the model\n",
    "titanic_model = LogisticRegression()\n",
    "titanic_model.fit(X_train, y_train)\n",
    "\n",
    "# Score the model on the train data\n",
    "training_score = titanic_model.score(X_train, y_train)\n",
    "print(training_score)\n",
    "# Score the model on the test data\n",
    "test_score = titanic_model.score(X_test, y_test)\n",
    "print(test_score)"
   ]
  },
  {
   "cell_type": "code",
   "execution_count": 4,
   "id": "bf1d9742",
   "metadata": {},
   "outputs": [
    {
     "name": "stdout",
     "output_type": "stream",
     "text": [
      "[('Sex', 2.309169693177409), ('Age', -0.020936852924071124), ('FirstClass', 2.0049475239620285), ('SecondClass', 1.0485463693407606)]\n",
      "[[-0.74926865 -0.78151043 -0.59774449 -0.49598387]\n",
      " [ 1.33463478 -1.00910469  1.67295561 -0.49598387]\n",
      " [-0.74926865  2.25307958  1.67295561 -0.49598387]\n",
      " [ 1.33463478  1.87375582  1.67295561 -0.49598387]]\n",
      "[0 1 0 1]\n",
      "[[0.9931873  0.0068127 ]\n",
      " [0.01228087 0.98771913]\n",
      " [0.62082015 0.37917985]\n",
      " [0.01303499 0.98696501]]\n"
     ]
    },
    {
     "name": "stderr",
     "output_type": "stream",
     "text": [
      "C:\\Users\\grace\\anaconda3\\lib\\site-packages\\sklearn\\base.py:450: UserWarning: X does not have valid feature names, but StandardScaler was fitted with feature names\n",
      "  warnings.warn(\n",
      "C:\\Users\\grace\\anaconda3\\lib\\site-packages\\sklearn\\base.py:450: UserWarning: X does not have valid feature names, but LogisticRegression was fitted with feature names\n",
      "  warnings.warn(\n",
      "C:\\Users\\grace\\anaconda3\\lib\\site-packages\\sklearn\\base.py:450: UserWarning: X does not have valid feature names, but LogisticRegression was fitted with feature names\n",
      "  warnings.warn(\n"
     ]
    }
   ],
   "source": [
    "# Analyze the coefficients\n",
    "#print(titanic_model.coef_)\n",
    "\n",
    "#To print each feature with its respective coefficient value, you can use the following expression:\n",
    "print(list(zip(['Sex','Age','FirstClass','SecondClass'],titanic_model.coef_[0])))\n",
    "\n",
    "# Sample passenger features\n",
    "jack = np.array([0.0,20.0,0.0,0.0])\n",
    "rose = np.array([1.0,17.0,1.0,0.0])\n",
    "will = np.array([0.0,60.0,1.0,0.0])\n",
    "kristin = np.array([1.0,55.0,1.0,0.0])\n",
    "\n",
    "# Combine passenger arrays\n",
    "sample_passengers = np.array([jack, rose, will, kristin])\n",
    "\n",
    "# Scale the sample passenger features\n",
    "sample_passengers = scaler.transform(sample_passengers)\n",
    "print(sample_passengers)\n",
    "\n",
    "# Make survival predictions!\n",
    "print(titanic_model.predict(sample_passengers))\n",
    "\n",
    "print(titanic_model.predict_proba(sample_passengers))"
   ]
  },
  {
   "cell_type": "markdown",
   "id": "361d1492",
   "metadata": {},
   "source": [
    "I'm not sure why I'm getting this warning message about not using valid feature names. I'm going to investigate at a later time. "
   ]
  },
  {
   "cell_type": "markdown",
   "id": "2d430db9",
   "metadata": {},
   "source": [
    "For our sample passengers array of Jack, Rose, Will (me), and Kristin (my wife), the model returned [0, 1, 1, 1]. Thus, the model predicted correctly that Jack would die and Rose would live. (But why didn't Jack find another piece of wreckage for his own use?) Furthermore, the model predicted that both my wife and I would survive, probably since we were both traveling First Class!"
   ]
  }
 ],
 "metadata": {
  "kernelspec": {
   "display_name": "Python 3 (ipykernel)",
   "language": "python",
   "name": "python3"
  },
  "language_info": {
   "codemirror_mode": {
    "name": "ipython",
    "version": 3
   },
   "file_extension": ".py",
   "mimetype": "text/x-python",
   "name": "python",
   "nbconvert_exporter": "python",
   "pygments_lexer": "ipython3",
   "version": "3.9.12"
  }
 },
 "nbformat": 4,
 "nbformat_minor": 5
}
